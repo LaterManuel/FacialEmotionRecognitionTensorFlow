{
 "cells": [
  {
   "cell_type": "code",
   "execution_count": null,
   "metadata": {},
   "outputs": [],
   "source": [
    "from tensorflow.keras.models import load_model\n",
    "from tensorflow.keras.preprocessing import image\n",
    "import numpy as np\n",
    "\n",
    "modelo = load_model('model_maxv2.h5')\n",
    "\n",
    "img_path = 'images/1.png'\n",
    "img = image.load_img(img_path, target_size=(299, 299))  \n",
    "\n",
    "img_array = image.img_to_array(img) / 255.0  \n",
    "\n",
    "img_array_expanded = np.expand_dims(img_array, axis=0)\n",
    "\n",
    "prediction = modelo.predict(img_array_expanded)\n",
    "\n",
    "print(\"Predicción:\", prediction)"
   ]
  }
 ],
 "metadata": {
  "language_info": {
   "name": "python"
  }
 },
 "nbformat": 4,
 "nbformat_minor": 2
}
