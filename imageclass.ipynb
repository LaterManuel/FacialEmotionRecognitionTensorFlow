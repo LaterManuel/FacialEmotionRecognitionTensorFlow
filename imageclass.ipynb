{
 "cells": [
  {
   "cell_type": "code",
   "execution_count": null,
   "metadata": {},
   "outputs": [],
   "source": [
    "from tensorflow.keras.models import load_model\n",
    "from tensorflow.keras.preprocessing import image\n",
    "import numpy as np\n",
    "\n",
    "# Paso 1: Cargar el modelo\n",
    "modelo = load_model('model_maxv2.h5')\n",
    "\n",
    "# Paso 2: Leer la imagen. Reemplaza 'path_to_your_image.jpg' con la ruta de tu imagen\n",
    "img_path = 'images/1.png'\n",
    "img = image.load_img(img_path, target_size=(299, 299))  # Paso 3: Cambiar tamaño\n",
    "\n",
    "# Paso 4: Convertir la imagen a un array y normalizar si es necesario\n",
    "img_array = image.img_to_array(img) / 255.0  # Normalización a [0, 1]\n",
    "\n",
    "# Paso 5: Expandir dimensiones para ajustarse al input esperado del modelo\n",
    "img_array_expanded = np.expand_dims(img_array, axis=0)\n",
    "\n",
    "# Paso 6: Predecir la clase de la imagen\n",
    "prediction = modelo.predict(img_array_expanded)\n",
    "\n",
    "# Paso 7: Interpretar y mostrar el resultado\n",
    "# Aquí necesitarás ajustar el código según cómo quieras interpretar y mostrar la predicción\n",
    "print(\"Predicción:\", prediction)"
   ]
  }
 ],
 "metadata": {
  "language_info": {
   "name": "python"
  }
 },
 "nbformat": 4,
 "nbformat_minor": 2
}
