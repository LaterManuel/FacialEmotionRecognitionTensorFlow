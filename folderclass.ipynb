{
 "cells": [
  {
   "cell_type": "code",
   "execution_count": 15,
   "metadata": {},
   "outputs": [
    {
     "name": "stdout",
     "output_type": "stream",
     "text": [
      "Found 436 validated image filenames.\n",
      "14/14 [==============================] - 8s 296ms/step\n",
      "Porcentaje de acierto: 52.52%\n"
     ]
    }
   ],
   "source": [
    "import numpy as np\n",
    "import os\n",
    "import pathlib\n",
    "import ipykernel\n",
    "import pandas as pd\n",
    "\n",
    "from keras.preprocessing.image import ImageDataGenerator\n",
    "from keras.models import load_model\n",
    "from sklearn.metrics import classification_report, accuracy_score\n",
    "import matplotlib.pyplot as plt\n",
    "\n",
    "# Definir tamaño de las imágenes\n",
    "img_width, img_height = 299, 299\n",
    "batch_size = 32\n",
    "\n",
    "# Solicitar al usuario que ingrese el nombre de la carpeta y la emoción correcta\n",
    "selected_folder = input(\"Ingrese el nombre de la carpeta a utilizar: \")\n",
    "correct_emotion = input(\"Ingrese la emoción correcta: \")\n",
    "\n",
    "# Ruta completa de la carpeta específica\n",
    "folder_path = 'datasetv2/train'\n",
    "specific_folder_path = os.path.join(folder_path, selected_folder)\n",
    "\n",
    "# Obtener la lista de archivos en la carpeta específica\n",
    "image_files = [os.path.join(specific_folder_path, file) for file in os.listdir(specific_folder_path) if file.endswith(('jpg', 'jpeg', 'png'))]\n",
    "\n",
    "# Crear un DataFrame con las rutas de las imágenes\n",
    "data = pd.DataFrame({'filename': image_files})\n",
    "\n",
    "# Preparar los generadores de datos\n",
    "test_datagen = ImageDataGenerator(rescale=1./255)\n",
    "\n",
    "test_generator = test_datagen.flow_from_dataframe(\n",
    "    data,\n",
    "    x_col='filename',\n",
    "    y_col=None,\n",
    "    target_size=(img_width, img_height),\n",
    "    batch_size=batch_size,\n",
    "    class_mode=None,  # No hay etiquetas\n",
    "    color_mode='rgb',\n",
    "    shuffle=False\n",
    ")\n",
    "\n",
    "# Cargar el modelo entrenado\n",
    "model = load_model('model_maxv2.h5')\n",
    "\n",
    "# Hacer predicciones\n",
    "test_generator.reset()\n",
    "predictions = model.predict(test_generator, steps=np.ceil(test_generator.samples / batch_size), verbose=1)\n",
    "\n",
    "# Convertir las predicciones en etiquetas\n",
    "predicted_classes = np.argmax(predictions, axis=1)\n",
    "\n",
    "# Mapear las clases predichas a sus etiquetas\n",
    "emotions = ['angry', 'disgust', 'fear', 'happy', 'neutral', 'sad', 'surprise']\n",
    "predicted_emotions = [emotions[i] for i in predicted_classes]\n",
    "\n",
    "# Calcular el porcentaje de acierto\n",
    "correct_predictions = predicted_emotions.count(correct_emotion)\n",
    "accuracy = (correct_predictions / len(predicted_emotions)) * 100\n",
    "\n",
    "print(f\"Porcentaje de acierto: {accuracy:.2f}%\")"
   ]
  }
 ],
 "metadata": {
  "kernelspec": {
   "display_name": "tensorflowc",
   "language": "python",
   "name": "python3"
  },
  "language_info": {
   "codemirror_mode": {
    "name": "ipython",
    "version": 3
   },
   "file_extension": ".py",
   "mimetype": "text/x-python",
   "name": "python",
   "nbconvert_exporter": "python",
   "pygments_lexer": "ipython3",
   "version": "3.10.14"
  }
 },
 "nbformat": 4,
 "nbformat_minor": 2
}
